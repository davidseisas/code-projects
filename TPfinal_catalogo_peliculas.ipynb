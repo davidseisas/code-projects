{
  "nbformat": 4,
  "nbformat_minor": 0,
  "metadata": {
    "colab": {
      "name": "TPfinal_catalogo_peliculas.ipynb",
      "provenance": [],
      "authorship_tag": "ABX9TyPDygRyMmGHaI30hSVZRRWr"
    },
    "kernelspec": {
      "name": "python3",
      "display_name": "Python 3"
    },
    "language_info": {
      "name": "python"
    }
  },
  "cells": [
    {
      "cell_type": "code",
      "execution_count": 1,
      "metadata": {
        "id": "6Tge-aj85ONg"
      },
      "outputs": [],
      "source": [
        "def tituloValido(a):\n",
        "    if (a != \"Fin\"):\n",
        "        return True\n",
        "    else:\n",
        "        return False\n",
        "\n",
        "def Notas(x):\n",
        "    nota = \"\"\n",
        "    if (x == 1):\n",
        "        nota = \"Muy mala\"\n",
        "    elif (x == 2):\n",
        "        nota = \"Mala\"\n",
        "    elif (x == 3):\n",
        "        nota = \"Aceptable\"\n",
        "    elif(x == 4):\n",
        "        nota = \"Buena\"\n",
        "    elif (x == 5):\n",
        "        nota = \"Muy buena\"\n",
        "    else:\n",
        "        print(\"Su nota esta fuera del rango\")\n",
        "    return nota\n",
        "        "
      ]
    },
    {
      "cell_type": "code",
      "source": [
        "a = str(input(\"Ingrese el titulo de la pelicula: \"))\n",
        "b = int(input(\"Ingrese el año de estreno de la pelicula: \"))\n",
        "c = int(input(\"Ingrese la calificacion de la pelicula(solo enteros de 1 a 5): \"))\n",
        "titulos = 0\n",
        "Estrenos2021 = 0\n",
        "calificacionesde4 = 0\n",
        "calificaciones = 0\n",
        "while (tituloValido(a)):\n",
        "    titulos += 1\n",
        "    if (b == 2021):\n",
        "        Estrenos2021 += 1\n",
        "    \n",
        "    if (c>0):\n",
        "        if (c >=4):\n",
        "            calificacionesde4 +=1\n",
        "            calificaciones += 1\n",
        "        else:\n",
        "            calificaciones += 1\n",
        "    else:\n",
        "        print(\"Ha ingresado una calificacion negativa, vuelva a intentarlo.\")\n",
        "        c = int(input(\"Vuelva a ingresar la calificacion:\"))\n",
        "        continue\n",
        "    print(\"Serie cargada con exito\")\n",
        "    print(\"La nota de la serie recien cargada fue:\",Notas(c))\n",
        "    a = str(input(\"Titulo: \"))\n",
        "    if (a == \"Fin\"):\n",
        "        break\n",
        "    b = int(input(\"Año de estreno: \"))\n",
        "    c = int(input(\"Calificacion: \"))\n",
        "    \n",
        "\n",
        "\n",
        "promedio = Estrenos2021/titulos\n",
        "porcentaje = ((calificacionesde4/calificaciones)*100)\n",
        "print(\"El promedio de series estrenadas en 2021 fue de: \", promedio)\n",
        "print(\"El porcentaje de series con calificación +4: \", porcentaje)"
      ],
      "metadata": {
        "id": "RLEpy1L56NGS"
      },
      "execution_count": null,
      "outputs": []
    }
  ]
}