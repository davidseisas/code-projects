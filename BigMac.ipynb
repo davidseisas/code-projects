{
  "nbformat": 4,
  "nbformat_minor": 0,
  "metadata": {
    "colab": {
      "name": "BigMac.ipynb",
      "provenance": [],
      "authorship_tag": "ABX9TyO6v1h8FIP6NpafXgjlfY/g"
    },
    "kernelspec": {
      "name": "python3",
      "display_name": "Python 3"
    },
    "language_info": {
      "name": "python"
    }
  },
  "cells": [
    {
      "cell_type": "code",
      "execution_count": 1,
      "metadata": {
        "colab": {
          "base_uri": "https://localhost:8080/"
        },
        "id": "2XwvTD171qJn",
        "outputId": "6c0b6ae3-d26d-494b-b6f7-c298e0655239"
      },
      "outputs": [
        {
          "output_type": "stream",
          "name": "stdout",
          "text": [
            "Looking in indexes: https://pypi.org/simple, https://us-python.pkg.dev/colab-wheels/public/simple/\n",
            "Collecting pyspark\n",
            "  Downloading pyspark-3.3.0.tar.gz (281.3 MB)\n",
            "\u001b[K     |████████████████████████████████| 281.3 MB 46 kB/s \n",
            "\u001b[?25hCollecting py4j==0.10.9.5\n",
            "  Downloading py4j-0.10.9.5-py2.py3-none-any.whl (199 kB)\n",
            "\u001b[K     |████████████████████████████████| 199 kB 34.7 MB/s \n",
            "\u001b[?25hBuilding wheels for collected packages: pyspark\n",
            "  Building wheel for pyspark (setup.py) ... \u001b[?25l\u001b[?25hdone\n",
            "  Created wheel for pyspark: filename=pyspark-3.3.0-py2.py3-none-any.whl size=281764026 sha256=56c71b6e5db485ab610c0ff818c327df840c23164a4fa9f19c2be0c71c185e12\n",
            "  Stored in directory: /root/.cache/pip/wheels/7a/8e/1b/f73a52650d2e5f337708d9f6a1750d451a7349a867f928b885\n",
            "Successfully built pyspark\n",
            "Installing collected packages: py4j, pyspark\n",
            "Successfully installed py4j-0.10.9.5 pyspark-3.3.0\n",
            "Get:1 https://cloud.r-project.org/bin/linux/ubuntu bionic-cran40/ InRelease [3,626 B]\n",
            "Hit:2 http://archive.ubuntu.com/ubuntu bionic InRelease\n",
            "Get:3 http://security.ubuntu.com/ubuntu bionic-security InRelease [88.7 kB]\n",
            "Get:4 http://ppa.launchpad.net/c2d4u.team/c2d4u4.0+/ubuntu bionic InRelease [15.9 kB]\n",
            "Get:5 http://archive.ubuntu.com/ubuntu bionic-updates InRelease [88.7 kB]\n",
            "Ign:6 https://developer.download.nvidia.com/compute/machine-learning/repos/ubuntu1804/x86_64  InRelease\n",
            "Get:7 https://developer.download.nvidia.com/compute/cuda/repos/ubuntu1804/x86_64  InRelease [1,581 B]\n",
            "Hit:8 https://developer.download.nvidia.com/compute/machine-learning/repos/ubuntu1804/x86_64  Release\n",
            "Get:9 https://developer.download.nvidia.com/compute/cuda/repos/ubuntu1804/x86_64  Packages [910 kB]\n",
            "Hit:10 http://ppa.launchpad.net/cran/libgit2/ubuntu bionic InRelease\n",
            "Get:11 http://archive.ubuntu.com/ubuntu bionic-backports InRelease [74.6 kB]\n",
            "Hit:13 http://ppa.launchpad.net/deadsnakes/ppa/ubuntu bionic InRelease\n",
            "Get:14 http://security.ubuntu.com/ubuntu bionic-security/universe amd64 Packages [1,533 kB]\n",
            "Get:15 http://archive.ubuntu.com/ubuntu bionic-updates/main amd64 Packages [3,369 kB]\n",
            "Hit:16 http://ppa.launchpad.net/graphics-drivers/ppa/ubuntu bionic InRelease\n",
            "Get:17 http://ppa.launchpad.net/c2d4u.team/c2d4u4.0+/ubuntu bionic/main Sources [2,095 kB]\n",
            "Get:18 http://security.ubuntu.com/ubuntu bionic-security/main amd64 Packages [2,937 kB]\n",
            "Get:19 http://archive.ubuntu.com/ubuntu bionic-updates/universe amd64 Packages [2,311 kB]\n",
            "Get:20 http://ppa.launchpad.net/c2d4u.team/c2d4u4.0+/ubuntu bionic/main amd64 Packages [1,073 kB]\n",
            "Fetched 14.5 MB in 6s (2,321 kB/s)\n",
            "Reading package lists... Done\n",
            "Building dependency tree       \n",
            "Reading state information... Done\n",
            "25 packages can be upgraded. Run 'apt list --upgradable' to see them.\n",
            "The following package was automatically installed and is no longer required:\n",
            "  libnvidia-common-460\n",
            "Use 'apt autoremove' to remove it.\n",
            "The following additional packages will be installed:\n",
            "  openjdk-8-jre-headless\n",
            "Suggested packages:\n",
            "  openjdk-8-demo openjdk-8-source libnss-mdns fonts-dejavu-extra\n",
            "  fonts-ipafont-gothic fonts-ipafont-mincho fonts-wqy-microhei\n",
            "  fonts-wqy-zenhei fonts-indic\n",
            "The following NEW packages will be installed:\n",
            "  openjdk-8-jdk-headless openjdk-8-jre-headless\n",
            "0 upgraded, 2 newly installed, 0 to remove and 25 not upgraded.\n",
            "Need to get 36.6 MB of archives.\n",
            "After this operation, 143 MB of additional disk space will be used.\n",
            "Selecting previously unselected package openjdk-8-jre-headless:amd64.\n",
            "(Reading database ... 155676 files and directories currently installed.)\n",
            "Preparing to unpack .../openjdk-8-jre-headless_8u342-b07-0ubuntu1~18.04_amd64.deb ...\n",
            "Unpacking openjdk-8-jre-headless:amd64 (8u342-b07-0ubuntu1~18.04) ...\n",
            "Selecting previously unselected package openjdk-8-jdk-headless:amd64.\n",
            "Preparing to unpack .../openjdk-8-jdk-headless_8u342-b07-0ubuntu1~18.04_amd64.deb ...\n",
            "Unpacking openjdk-8-jdk-headless:amd64 (8u342-b07-0ubuntu1~18.04) ...\n",
            "Setting up openjdk-8-jre-headless:amd64 (8u342-b07-0ubuntu1~18.04) ...\n",
            "update-alternatives: using /usr/lib/jvm/java-8-openjdk-amd64/jre/bin/orbd to provide /usr/bin/orbd (orbd) in auto mode\n",
            "update-alternatives: using /usr/lib/jvm/java-8-openjdk-amd64/jre/bin/servertool to provide /usr/bin/servertool (servertool) in auto mode\n",
            "update-alternatives: using /usr/lib/jvm/java-8-openjdk-amd64/jre/bin/tnameserv to provide /usr/bin/tnameserv (tnameserv) in auto mode\n",
            "Setting up openjdk-8-jdk-headless:amd64 (8u342-b07-0ubuntu1~18.04) ...\n",
            "update-alternatives: using /usr/lib/jvm/java-8-openjdk-amd64/bin/idlj to provide /usr/bin/idlj (idlj) in auto mode\n",
            "update-alternatives: using /usr/lib/jvm/java-8-openjdk-amd64/bin/wsimport to provide /usr/bin/wsimport (wsimport) in auto mode\n",
            "update-alternatives: using /usr/lib/jvm/java-8-openjdk-amd64/bin/jsadebugd to provide /usr/bin/jsadebugd (jsadebugd) in auto mode\n",
            "update-alternatives: using /usr/lib/jvm/java-8-openjdk-amd64/bin/native2ascii to provide /usr/bin/native2ascii (native2ascii) in auto mode\n",
            "update-alternatives: using /usr/lib/jvm/java-8-openjdk-amd64/bin/javah to provide /usr/bin/javah (javah) in auto mode\n",
            "update-alternatives: using /usr/lib/jvm/java-8-openjdk-amd64/bin/clhsdb to provide /usr/bin/clhsdb (clhsdb) in auto mode\n",
            "update-alternatives: using /usr/lib/jvm/java-8-openjdk-amd64/bin/xjc to provide /usr/bin/xjc (xjc) in auto mode\n",
            "update-alternatives: using /usr/lib/jvm/java-8-openjdk-amd64/bin/hsdb to provide /usr/bin/hsdb (hsdb) in auto mode\n",
            "update-alternatives: using /usr/lib/jvm/java-8-openjdk-amd64/bin/schemagen to provide /usr/bin/schemagen (schemagen) in auto mode\n",
            "update-alternatives: using /usr/lib/jvm/java-8-openjdk-amd64/bin/extcheck to provide /usr/bin/extcheck (extcheck) in auto mode\n",
            "update-alternatives: using /usr/lib/jvm/java-8-openjdk-amd64/bin/jhat to provide /usr/bin/jhat (jhat) in auto mode\n",
            "update-alternatives: using /usr/lib/jvm/java-8-openjdk-amd64/bin/wsgen to provide /usr/bin/wsgen (wsgen) in auto mode\n"
          ]
        }
      ],
      "source": [
        "!pip install pyspark\n",
        "!pip install -U -q PyDrive\n",
        "!apt update\n",
        "!apt install openjdk-8-jdk-headless -qq\n",
        "#!apt install default-jre\n",
        "#!apt install default-jdk\n",
        "import os\n",
        "os.environ[\"JAVA_HOME\"] = \"/usr/lib/jvm/java-8-openjdk-amd64\""
      ]
    },
    {
      "cell_type": "code",
      "source": [
        "from pydrive.auth import GoogleAuth\n",
        "from pydrive.drive import GoogleDrive\n",
        "from google.colab import auth\n",
        "from oauth2client.client import GoogleCredentials\n",
        "from pyspark.sql import *\n",
        "from pyspark.sql.functions import *\n",
        "from pyspark import SparkContext\n",
        "from pyspark.sql import SQLContext\n",
        "import pandas as pd"
      ],
      "metadata": {
        "id": "Q-v4d5C42YWB"
      },
      "execution_count": 2,
      "outputs": []
    },
    {
      "cell_type": "code",
      "source": [
        "auth.authenticate_user()\n",
        "gauth = GoogleAuth()\n",
        "gauth.credentials = GoogleCredentials.get_application_default()\n",
        "drive = GoogleDrive(gauth)"
      ],
      "metadata": {
        "id": "xHqqyBDx2cr9"
      },
      "execution_count": 3,
      "outputs": []
    },
    {
      "cell_type": "code",
      "source": [
        "downloaded = drive.CreateFile({'id':\"1uOMdWNsxIJ3WHgvde726e169idKgs--8\"})\n",
        "downloaded.GetContentFile('big-mac-source-data2022.csv') "
      ],
      "metadata": {
        "id": "k5UySKrc2gHY"
      },
      "execution_count": 4,
      "outputs": []
    },
    {
      "cell_type": "code",
      "source": [
        "spark = SparkSession.builder.getOrCreate()\n",
        "sc = spark.sparkContext"
      ],
      "metadata": {
        "id": "IGYbr_7r2hDC"
      },
      "execution_count": 5,
      "outputs": []
    },
    {
      "cell_type": "code",
      "source": [
        "sqlContext = SQLContext(sc)"
      ],
      "metadata": {
        "colab": {
          "base_uri": "https://localhost:8080/"
        },
        "id": "kMiPJfJo2jMQ",
        "outputId": "b373ca9f-21db-42ba-d365-8089d0c8435a"
      },
      "execution_count": 6,
      "outputs": [
        {
          "output_type": "stream",
          "name": "stderr",
          "text": [
            "/usr/local/lib/python3.7/dist-packages/pyspark/sql/context.py:114: FutureWarning: Deprecated in 3.0.0. Use SparkSession.builder.getOrCreate() instead.\n",
            "  FutureWarning,\n"
          ]
        }
      ]
    },
    {
      "cell_type": "code",
      "source": [
        "df = sqlContext.read.csv('big-mac-source-data2022.csv', header=True, inferSchema=True)"
      ],
      "metadata": {
        "id": "8t12Muag2nG4"
      },
      "execution_count": 7,
      "outputs": []
    },
    {
      "cell_type": "code",
      "source": [
        "df.rdd"
      ],
      "metadata": {
        "colab": {
          "base_uri": "https://localhost:8080/"
        },
        "id": "v9lLt_yB2pZA",
        "outputId": "479c1dc2-3a8a-423e-d04f-f1aee62ef7f9"
      },
      "execution_count": 8,
      "outputs": [
        {
          "output_type": "execute_result",
          "data": {
            "text/plain": [
              "MapPartitionsRDD[14] at javaToPython at NativeMethodAccessorImpl.java:0"
            ]
          },
          "metadata": {},
          "execution_count": 8
        }
      ]
    },
    {
      "cell_type": "code",
      "source": [
        "df.schema"
      ],
      "metadata": {
        "colab": {
          "base_uri": "https://localhost:8080/"
        },
        "id": "4p0PsAoi2rlm",
        "outputId": "e5040882-8819-4541-acc0-058663aa1a10"
      },
      "execution_count": 9,
      "outputs": [
        {
          "output_type": "execute_result",
          "data": {
            "text/plain": [
              "StructType([StructField('name', StringType(), True), StructField('iso_a3', StringType(), True), StructField('currency_code', StringType(), True), StructField('local_price', DoubleType(), True), StructField('dollar_ex', DoubleType(), True), StructField('GDP_dollar', DoubleType(), True), StructField('date', TimestampType(), True)])"
            ]
          },
          "metadata": {},
          "execution_count": 9
        }
      ]
    },
    {
      "cell_type": "code",
      "source": [
        "df.printSchema()"
      ],
      "metadata": {
        "colab": {
          "base_uri": "https://localhost:8080/"
        },
        "id": "aRo0eGtQ2zF1",
        "outputId": "a10ee0b8-3765-487e-f0bb-9fe42fef035f"
      },
      "execution_count": 10,
      "outputs": [
        {
          "output_type": "stream",
          "name": "stdout",
          "text": [
            "root\n",
            " |-- name: string (nullable = true)\n",
            " |-- iso_a3: string (nullable = true)\n",
            " |-- currency_code: string (nullable = true)\n",
            " |-- local_price: double (nullable = true)\n",
            " |-- dollar_ex: double (nullable = true)\n",
            " |-- GDP_dollar: double (nullable = true)\n",
            " |-- date: timestamp (nullable = true)\n",
            "\n"
          ]
        }
      ]
    },
    {
      "cell_type": "code",
      "source": [
        "from pyspark.sql.types import StructType, StructField, StringType, DoubleType, TimestampType"
      ],
      "metadata": {
        "id": "hG31Lcv421Io"
      },
      "execution_count": 11,
      "outputs": []
    },
    {
      "cell_type": "code",
      "source": [
        "Schema = StructType([ StructField(\"name\", StringType(), True),\n",
        "                      StructField(\"iso_a3\", StringType(), True),\n",
        "                      StructField(\"currency_code\", StringType(), True),\n",
        "                      StructField(\"local_price\", DoubleType(), True),\n",
        "                      StructField(\"dollar_ex\", DoubleType(), True),\n",
        "                      StructField(\"GDP_dollar\", DoubleType(), True),\n",
        "                     StructField(\"date\", TimestampType(), True)\n",
        "                    ])"
      ],
      "metadata": {
        "id": "6L_wABoF23D2"
      },
      "execution_count": 12,
      "outputs": []
    },
    {
      "cell_type": "code",
      "source": [
        "df = sqlContext.read.csv('big-mac-source-data2022.csv', header=True, schema=Schema)"
      ],
      "metadata": {
        "id": "Uzc4fVlD23xV"
      },
      "execution_count": 13,
      "outputs": []
    },
    {
      "cell_type": "code",
      "source": [
        "df.printSchema()"
      ],
      "metadata": {
        "colab": {
          "base_uri": "https://localhost:8080/"
        },
        "id": "rfbQGKi525nW",
        "outputId": "b7ea2cbe-a936-4e66-b38e-1c84b00e1835"
      },
      "execution_count": 14,
      "outputs": [
        {
          "output_type": "stream",
          "name": "stdout",
          "text": [
            "root\n",
            " |-- name: string (nullable = true)\n",
            " |-- iso_a3: string (nullable = true)\n",
            " |-- currency_code: string (nullable = true)\n",
            " |-- local_price: double (nullable = true)\n",
            " |-- dollar_ex: double (nullable = true)\n",
            " |-- GDP_dollar: double (nullable = true)\n",
            " |-- date: timestamp (nullable = true)\n",
            "\n"
          ]
        }
      ]
    },
    {
      "cell_type": "code",
      "source": [
        "df.count()"
      ],
      "metadata": {
        "colab": {
          "base_uri": "https://localhost:8080/"
        },
        "id": "-jO4jO8r27Fq",
        "outputId": "3d9bbcfd-5de0-4e57-cef6-a6ddeb48d68d"
      },
      "execution_count": 15,
      "outputs": [
        {
          "output_type": "execute_result",
          "data": {
            "text/plain": [
              "1876"
            ]
          },
          "metadata": {},
          "execution_count": 15
        }
      ]
    },
    {
      "cell_type": "code",
      "source": [
        "df.head(5)"
      ],
      "metadata": {
        "colab": {
          "base_uri": "https://localhost:8080/"
        },
        "id": "GW5iwYr53Adl",
        "outputId": "7803c35a-4148-4726-8e91-748ba3fa302f"
      },
      "execution_count": 16,
      "outputs": [
        {
          "output_type": "execute_result",
          "data": {
            "text/plain": [
              "[Row(name='Argentina', iso_a3='ARG', currency_code='ARS', local_price=2.5, dollar_ex=1.0, GDP_dollar=None, date=datetime.datetime(2000, 4, 1, 0, 0)),\n",
              " Row(name='Australia', iso_a3='AUS', currency_code='AUD', local_price=2.59, dollar_ex=1.68, GDP_dollar=None, date=datetime.datetime(2000, 4, 1, 0, 0)),\n",
              " Row(name='Brazil', iso_a3='BRA', currency_code='BRL', local_price=2.95, dollar_ex=1.79, GDP_dollar=None, date=datetime.datetime(2000, 4, 1, 0, 0)),\n",
              " Row(name='Britain', iso_a3='GBR', currency_code='GBP', local_price=1.9, dollar_ex=0.632911392, GDP_dollar=None, date=datetime.datetime(2000, 4, 1, 0, 0)),\n",
              " Row(name='Canada', iso_a3='CAN', currency_code='CAD', local_price=2.85, dollar_ex=1.47, GDP_dollar=None, date=datetime.datetime(2000, 4, 1, 0, 0))]"
            ]
          },
          "metadata": {},
          "execution_count": 16
        }
      ]
    },
    {
      "cell_type": "code",
      "source": [
        "df.show()"
      ],
      "metadata": {
        "colab": {
          "base_uri": "https://localhost:8080/"
        },
        "id": "8L4tvpR93CHp",
        "outputId": "fc77f270-4702-496c-c5b7-8a48174af7f1"
      },
      "execution_count": 17,
      "outputs": [
        {
          "output_type": "stream",
          "name": "stdout",
          "text": [
            "+--------------+------+-------------+-----------+-----------+----------+-------------------+\n",
            "|          name|iso_a3|currency_code|local_price|  dollar_ex|GDP_dollar|               date|\n",
            "+--------------+------+-------------+-----------+-----------+----------+-------------------+\n",
            "|     Argentina|   ARG|          ARS|        2.5|        1.0|      null|2000-04-01 00:00:00|\n",
            "|     Australia|   AUS|          AUD|       2.59|       1.68|      null|2000-04-01 00:00:00|\n",
            "|        Brazil|   BRA|          BRL|       2.95|       1.79|      null|2000-04-01 00:00:00|\n",
            "|       Britain|   GBR|          GBP|        1.9|0.632911392|      null|2000-04-01 00:00:00|\n",
            "|        Canada|   CAN|          CAD|       2.85|       1.47|      null|2000-04-01 00:00:00|\n",
            "|         Chile|   CHL|          CLP|     1260.0|      514.0|      null|2000-04-01 00:00:00|\n",
            "|         China|   CHN|          CNY|        9.9|       8.28|      null|2000-04-01 00:00:00|\n",
            "|Czech Republic|   CZE|          CZK|      54.37|       39.1|      null|2000-04-01 00:00:00|\n",
            "|       Denmark|   DNK|          DKK|      24.75|       8.04|      null|2000-04-01 00:00:00|\n",
            "|     Euro area|   EUZ|          EUR|       2.56|1.075268817|      null|2000-04-01 00:00:00|\n",
            "|     Hong Kong|   HKG|          HKD|       10.2|       7.79|      null|2000-04-01 00:00:00|\n",
            "|       Hungary|   HUN|          HUF|      339.0|      279.0|      null|2000-04-01 00:00:00|\n",
            "|     Indonesia|   IDN|          IDR|    14500.0|     7945.0|      null|2000-04-01 00:00:00|\n",
            "|        Israel|   ISR|          ILS|       14.5|       4.05|      null|2000-04-01 00:00:00|\n",
            "|         Japan|   JPN|          JPY|      294.0|      106.0|      null|2000-04-01 00:00:00|\n",
            "|      Malaysia|   MYS|          MYR|       4.52|        3.8|      null|2000-04-01 00:00:00|\n",
            "|        Mexico|   MEX|          MXN|       20.9|       9.41|      null|2000-04-01 00:00:00|\n",
            "|   New Zealand|   NZL|          NZD|        3.4|       2.01|      null|2000-04-01 00:00:00|\n",
            "|        Poland|   POL|          PLN|        5.5|        4.3|      null|2000-04-01 00:00:00|\n",
            "|        Russia|   RUS|          RUB|       39.5|       28.5|      null|2000-04-01 00:00:00|\n",
            "+--------------+------+-------------+-----------+-----------+----------+-------------------+\n",
            "only showing top 20 rows\n",
            "\n"
          ]
        }
      ]
    },
    {
      "cell_type": "code",
      "source": [
        "df.describe().show()"
      ],
      "metadata": {
        "colab": {
          "base_uri": "https://localhost:8080/"
        },
        "id": "VfUNsP2T3F_k",
        "outputId": "74a1f4b3-75f7-41f7-da1d-c839ceda5150"
      },
      "execution_count": 18,
      "outputs": [
        {
          "output_type": "stream",
          "name": "stdout",
          "text": [
            "+-------+---------+------+-------------+------------------+------------------+------------------+\n",
            "|summary|     name|iso_a3|currency_code|       local_price|         dollar_ex|        GDP_dollar|\n",
            "+-------+---------+------+-------------+------------------+------------------+------------------+\n",
            "|  count|     1876|  1876|         1876|              1876|              1876|              1263|\n",
            "|   mean|     null|  null|         null|16264.709962031364| 4859.870233113078|26950.650459675293|\n",
            "| stddev|     null|  null|         null|401270.68922267726|102478.19239009761|21210.691703476616|\n",
            "|    min|Argentina|   ARE|          AED|               0.0|               0.0|          1049.749|\n",
            "|    max|  Vietnam|   ZAF|          ZAR|           1.602E7|       3613989.071|        100578.968|\n",
            "+-------+---------+------+-------------+------------------+------------------+------------------+\n",
            "\n"
          ]
        }
      ]
    },
    {
      "cell_type": "code",
      "source": [
        "df.summary().show()"
      ],
      "metadata": {
        "colab": {
          "base_uri": "https://localhost:8080/"
        },
        "id": "cPjTnes33Hsb",
        "outputId": "758090ae-a755-4ab2-cfbb-d208c1ce5461"
      },
      "execution_count": 19,
      "outputs": [
        {
          "output_type": "stream",
          "name": "stdout",
          "text": [
            "+-------+---------+------+-------------+------------------+------------------+------------------+\n",
            "|summary|     name|iso_a3|currency_code|       local_price|         dollar_ex|        GDP_dollar|\n",
            "+-------+---------+------+-------------+------------------+------------------+------------------+\n",
            "|  count|     1876|  1876|         1876|              1876|              1876|              1263|\n",
            "|   mean|     null|  null|         null|16264.709962031364| 4859.870233113078|26950.650459675293|\n",
            "| stddev|     null|  null|         null|401270.68922267726|102478.19239009761|21210.691703476616|\n",
            "|    min|Argentina|   ARE|          AED|               0.0|               0.0|          1049.749|\n",
            "|    25%|     null|  null|         null|              4.45|             1.026|          9054.914|\n",
            "|    50%|     null|  null|         null|             14.99|            5.5014|         20812.586|\n",
            "|    75%|     null|  null|         null|              87.0|            32.875|         43527.994|\n",
            "|    max|  Vietnam|   ZAF|          ZAR|           1.602E7|       3613989.071|        100578.968|\n",
            "+-------+---------+------+-------------+------------------+------------------+------------------+\n",
            "\n"
          ]
        }
      ]
    },
    {
      "cell_type": "code",
      "source": [
        "df.columns"
      ],
      "metadata": {
        "colab": {
          "base_uri": "https://localhost:8080/"
        },
        "id": "SXs8j5re3KP_",
        "outputId": "f7dbc6b6-ce6e-4d0b-d038-0e2c3b1e354a"
      },
      "execution_count": 20,
      "outputs": [
        {
          "output_type": "execute_result",
          "data": {
            "text/plain": [
              "['name',\n",
              " 'iso_a3',\n",
              " 'currency_code',\n",
              " 'local_price',\n",
              " 'dollar_ex',\n",
              " 'GDP_dollar',\n",
              " 'date']"
            ]
          },
          "metadata": {},
          "execution_count": 20
        }
      ]
    },
    {
      "cell_type": "code",
      "source": [
        "df.groupby('name').agg({'local_price': 'max', 'dollar_ex': 'max'}).show()"
      ],
      "metadata": {
        "colab": {
          "base_uri": "https://localhost:8080/"
        },
        "id": "ITrJz9fc3UX_",
        "outputId": "9cb6bd0c-f785-426e-bbad-678faba91166"
      },
      "execution_count": 21,
      "outputs": [
        {
          "output_type": "stream",
          "name": "stdout",
          "text": [
            "+-----------+-----------------+----------------+\n",
            "|       name|   max(dollar_ex)|max(local_price)|\n",
            "+-----------+-----------------+----------------+\n",
            "|     Russia|          77.4175|           137.0|\n",
            "|     Sweden|             10.4|            54.0|\n",
            "|Philippines|             55.9|           163.0|\n",
            "|   Malaysia|           4.4715|            9.99|\n",
            "|  Singapore|             1.82|             5.9|\n",
            "|    Britain|       0.82877507|            3.59|\n",
            "|     Turkey|        1600500.0|       4000000.0|\n",
            "|    Germany|      0.955246692|            4.46|\n",
            "|     Jordan|          0.71005|             2.3|\n",
            "|     France|      0.955246692|            4.35|\n",
            "|     Greece|      0.955246692|             3.4|\n",
            "|  Sri Lanka|           202.41|           840.0|\n",
            "|     Taiwan|             34.8|            79.0|\n",
            "|   Slovakia|0.899159286067527|             3.8|\n",
            "|  Argentina|         105.0165|           450.0|\n",
            "|    Belgium|      0.955246692|            4.55|\n",
            "|      Qatar|          3.64175|            13.0|\n",
            "|    Finland|      0.955246692|            4.95|\n",
            "|  Nicaragua|           35.455|           134.0|\n",
            "|       Peru|           3.9511|            12.9|\n",
            "+-----------+-----------------+----------------+\n",
            "only showing top 20 rows\n",
            "\n"
          ]
        }
      ]
    },
    {
      "cell_type": "code",
      "source": [
        "df.groupby('name').mean('local_price').show()"
      ],
      "metadata": {
        "colab": {
          "base_uri": "https://localhost:8080/"
        },
        "id": "oqsZMzca3VA4",
        "outputId": "bf62f2cc-8b9e-45cc-aec2-3c341883e78c"
      },
      "execution_count": 23,
      "outputs": [
        {
          "output_type": "stream",
          "name": "stdout",
          "text": [
            "+-----------+------------------+\n",
            "|       name|  avg(local_price)|\n",
            "+-----------+------------------+\n",
            "|     Russia| 87.54305555555555|\n",
            "|     Sweden| 41.46478670138889|\n",
            "|Philippines|116.28914285714285|\n",
            "|   Malaysia| 7.297222222222222|\n",
            "|  Singapore|4.6447222222222235|\n",
            "|    Britain| 2.642222222222222|\n",
            "|     Turkey| 344126.3305882353|\n",
            "|    Germany| 3.898181818181818|\n",
            "|     Jordan|           2.16875|\n",
            "|     France|4.0159090909090915|\n",
            "|     Greece|3.2133181818181815|\n",
            "|  Sri Lanka|406.93548387096774|\n",
            "|     Taiwan| 73.41666666666667|\n",
            "|   Slovakia|              3.45|\n",
            "|  Argentina| 67.04055555555556|\n",
            "|    Belgium| 4.013636363636364|\n",
            "|      Qatar|             12.75|\n",
            "|    Finland| 4.376363636363637|\n",
            "|  Nicaragua|            117.75|\n",
            "|       Peru|10.090666666666662|\n",
            "+-----------+------------------+\n",
            "only showing top 20 rows\n",
            "\n"
          ]
        }
      ]
    },
    {
      "cell_type": "code",
      "source": [
        "df.groupby('name').max('local_price').show()"
      ],
      "metadata": {
        "colab": {
          "base_uri": "https://localhost:8080/"
        },
        "id": "nCJfUN3M3bdw",
        "outputId": "36df9044-c2b9-4ea3-c721-9d11440dc103"
      },
      "execution_count": 24,
      "outputs": [
        {
          "output_type": "stream",
          "name": "stdout",
          "text": [
            "+-----------+----------------+\n",
            "|       name|max(local_price)|\n",
            "+-----------+----------------+\n",
            "|     Russia|           137.0|\n",
            "|     Sweden|            54.0|\n",
            "|Philippines|           163.0|\n",
            "|   Malaysia|            9.99|\n",
            "|  Singapore|             5.9|\n",
            "|    Britain|            3.59|\n",
            "|     Turkey|       4000000.0|\n",
            "|    Germany|            4.46|\n",
            "|     Jordan|             2.3|\n",
            "|     France|            4.35|\n",
            "|     Greece|             3.4|\n",
            "|  Sri Lanka|           840.0|\n",
            "|     Taiwan|            79.0|\n",
            "|   Slovakia|             3.8|\n",
            "|  Argentina|           450.0|\n",
            "|    Belgium|            4.55|\n",
            "|      Qatar|            13.0|\n",
            "|    Finland|            4.95|\n",
            "|  Nicaragua|           134.0|\n",
            "|       Peru|            12.9|\n",
            "+-----------+----------------+\n",
            "only showing top 20 rows\n",
            "\n"
          ]
        }
      ]
    },
    {
      "cell_type": "code",
      "source": [
        "df.groupby('name').min('local_price').show()"
      ],
      "metadata": {
        "colab": {
          "base_uri": "https://localhost:8080/"
        },
        "id": "c1Vdm0QQ3dIg",
        "outputId": "0eb6ac77-7fdc-423c-fd10-241d9861be2b"
      },
      "execution_count": 25,
      "outputs": [
        {
          "output_type": "stream",
          "name": "stdout",
          "text": [
            "+-----------+----------------+\n",
            "|       name|min(local_price)|\n",
            "+-----------+----------------+\n",
            "|     Russia|            35.0|\n",
            "|     Sweden|            24.0|\n",
            "|Philippines|            59.0|\n",
            "|   Malaysia|            4.52|\n",
            "|  Singapore|             3.2|\n",
            "|    Britain|            1.88|\n",
            "|     Turkey|             4.0|\n",
            "|    Germany|             3.4|\n",
            "|     Jordan|            1.95|\n",
            "|     France|             3.5|\n",
            "|     Greece|             2.6|\n",
            "|  Sri Lanka|           140.0|\n",
            "|     Taiwan|            69.0|\n",
            "|   Slovakia|             3.0|\n",
            "|  Argentina|             2.5|\n",
            "|    Belgium|             3.7|\n",
            "|      Qatar|            12.0|\n",
            "|    Finland|            3.75|\n",
            "|  Nicaragua|           103.0|\n",
            "|       Peru|             7.9|\n",
            "+-----------+----------------+\n",
            "only showing top 20 rows\n",
            "\n"
          ]
        }
      ]
    },
    {
      "cell_type": "code",
      "source": [
        "from pyspark.sql.functions import count, avg, min, max, round"
      ],
      "metadata": {
        "id": "7Zp_WpNY3fcR"
      },
      "execution_count": 26,
      "outputs": []
    },
    {
      "cell_type": "code",
      "source": [
        "df.groupby('name').agg(avg('local_price'), min('local_price'), max('local_price')).show()"
      ],
      "metadata": {
        "colab": {
          "base_uri": "https://localhost:8080/"
        },
        "id": "FTn7MqzZ3hQQ",
        "outputId": "a496ba7a-8a97-4e5c-dac8-2585ed0b6af8"
      },
      "execution_count": 27,
      "outputs": [
        {
          "output_type": "stream",
          "name": "stdout",
          "text": [
            "+-----------+------------------+----------------+----------------+\n",
            "|       name|  avg(local_price)|min(local_price)|max(local_price)|\n",
            "+-----------+------------------+----------------+----------------+\n",
            "|     Russia| 87.54305555555555|            35.0|           137.0|\n",
            "|     Sweden| 41.46478670138889|            24.0|            54.0|\n",
            "|Philippines|116.28914285714285|            59.0|           163.0|\n",
            "|   Malaysia| 7.297222222222222|            4.52|            9.99|\n",
            "|  Singapore|4.6447222222222235|             3.2|             5.9|\n",
            "|    Britain| 2.642222222222222|            1.88|            3.59|\n",
            "|     Turkey| 344126.3305882353|             4.0|       4000000.0|\n",
            "|    Germany| 3.898181818181818|             3.4|            4.46|\n",
            "|     Jordan|           2.16875|            1.95|             2.3|\n",
            "|     France|4.0159090909090915|             3.5|            4.35|\n",
            "|     Greece|3.2133181818181815|             2.6|             3.4|\n",
            "|  Sri Lanka|406.93548387096774|           140.0|           840.0|\n",
            "|     Taiwan| 73.41666666666667|            69.0|            79.0|\n",
            "|   Slovakia|              3.45|             3.0|             3.8|\n",
            "|  Argentina| 67.04055555555556|             2.5|           450.0|\n",
            "|    Belgium| 4.013636363636364|             3.7|            4.55|\n",
            "|      Qatar|             12.75|            12.0|            13.0|\n",
            "|    Finland| 4.376363636363637|            3.75|            4.95|\n",
            "|  Nicaragua|            117.75|           103.0|           134.0|\n",
            "|       Peru|10.090666666666662|             7.9|            12.9|\n",
            "+-----------+------------------+----------------+----------------+\n",
            "only showing top 20 rows\n",
            "\n"
          ]
        }
      ]
    },
    {
      "cell_type": "code",
      "source": [
        "from pyspark.sql.functions import pandas_udf, PandasUDFType\n",
        "\n",
        "@pandas_udf('double', PandasUDFType.GROUPED_AGG)\n",
        "def max_udf(v):\n",
        "    return v.max()"
      ],
      "metadata": {
        "colab": {
          "base_uri": "https://localhost:8080/"
        },
        "id": "XCw86dJs3mKh",
        "outputId": "54fe2163-bdba-4fe6-d705-00fbb93865e5"
      },
      "execution_count": 28,
      "outputs": [
        {
          "output_type": "stream",
          "name": "stderr",
          "text": [
            "/usr/local/lib/python3.7/dist-packages/pyspark/sql/pandas/functions.py:398: UserWarning: In Python 3.6+ and Spark 3.0+, it is preferred to specify type hints for pandas UDF instead of specifying pandas UDF type which will be deprecated in the future releases. See SPARK-28264 for more details.\n",
            "  UserWarning,\n"
          ]
        }
      ]
    },
    {
      "cell_type": "code",
      "source": [
        "df.groupby('name').agg(max_udf(df.local_price)).show()"
      ],
      "metadata": {
        "colab": {
          "base_uri": "https://localhost:8080/"
        },
        "id": "apMbBMah3qDf",
        "outputId": "dbe51735-8161-4c74-ff83-acd13c20bcfe"
      },
      "execution_count": 29,
      "outputs": [
        {
          "output_type": "stream",
          "name": "stdout",
          "text": [
            "+--------------+--------------------+\n",
            "|          name|max_udf(local_price)|\n",
            "+--------------+--------------------+\n",
            "|     Argentina|               450.0|\n",
            "|     Australia|                6.55|\n",
            "|       Austria|                3.92|\n",
            "|    Azerbaijan|                 4.5|\n",
            "|       Bahrain|                 1.5|\n",
            "|       Belgium|                4.55|\n",
            "|        Brazil|                22.9|\n",
            "|       Britain|                3.59|\n",
            "|        Canada|                6.88|\n",
            "|         Chile|              3100.0|\n",
            "|         China|                24.4|\n",
            "|      Colombia|             12950.0|\n",
            "|    Costa Rica|              2650.0|\n",
            "|       Croatia|                24.0|\n",
            "|Czech Republic|                89.0|\n",
            "|       Denmark|               34.59|\n",
            "|         Egypt|                42.5|\n",
            "|       Estonia|                 3.4|\n",
            "|     Euro area|                4.42|\n",
            "|       Finland|                4.95|\n",
            "+--------------+--------------------+\n",
            "only showing top 20 rows\n",
            "\n"
          ]
        }
      ]
    },
    {
      "cell_type": "code",
      "source": [
        "info_ar = df.filter('name = \"Argentina\"').drop('name', 'iso_a3', 'currency_code', 'GDP_dollar')\n",
        "info_ar.show()"
      ],
      "metadata": {
        "colab": {
          "base_uri": "https://localhost:8080/"
        },
        "id": "0eIpKe6lOiU1",
        "outputId": "89affca2-257a-44f3-8836-08969332d2a6"
      },
      "execution_count": 31,
      "outputs": [
        {
          "output_type": "stream",
          "name": "stdout",
          "text": [
            "+-----------+---------+-------------------+\n",
            "|local_price|dollar_ex|               date|\n",
            "+-----------+---------+-------------------+\n",
            "|        2.5|      1.0|2000-04-01 00:00:00|\n",
            "|        2.5|      1.0|2001-04-01 00:00:00|\n",
            "|        2.5|     3.13|2002-04-01 00:00:00|\n",
            "|        4.1|     2.88|2003-04-01 00:00:00|\n",
            "|       4.36|     2.95|2004-05-01 00:00:00|\n",
            "|       4.75|    2.897|2005-06-01 00:00:00|\n",
            "|       4.75|   3.0638|2006-01-01 00:00:00|\n",
            "|        7.0|   3.0565|2006-05-01 00:00:00|\n",
            "|       8.25|  3.08875|2007-01-01 00:00:00|\n",
            "|       8.25|   3.0915|2007-06-01 00:00:00|\n",
            "|       11.0|   3.0195|2008-06-01 00:00:00|\n",
            "|       11.5|  3.81125|2009-07-01 00:00:00|\n",
            "|        7.0|   3.7985|2010-01-01 00:00:00|\n",
            "|       14.0|  3.93375|2010-07-01 00:00:00|\n",
            "|       20.0|   4.1325|2011-07-01 00:00:00|\n",
            "|       20.0|   4.3135|2012-01-01 00:00:00|\n",
            "|       19.0|  4.56625|2012-07-01 00:00:00|\n",
            "|       19.0|   4.9765|2013-01-01 00:00:00|\n",
            "|       21.0|   5.4125|2013-07-01 00:00:00|\n",
            "|       21.0|  6.92125|2014-01-01 00:00:00|\n",
            "+-----------+---------+-------------------+\n",
            "only showing top 20 rows\n",
            "\n"
          ]
        }
      ]
    },
    {
      "cell_type": "code",
      "source": [
        "import time\n",
        "import datetime"
      ],
      "metadata": {
        "id": "nChn9SfMOE3w"
      },
      "execution_count": 32,
      "outputs": []
    },
    {
      "cell_type": "code",
      "source": [
        "data_ar = info_ar.rdd\\\n",
        "                 .map(lambda x: (time.mktime(x.date.timetuple()), x.local_price))\\\n",
        "                 .collect()"
      ],
      "metadata": {
        "id": "HcUw8Z8JOXzK"
      },
      "execution_count": 33,
      "outputs": []
    },
    {
      "cell_type": "code",
      "source": [
        "data_ar_list = list()\n",
        "for data in data_ar:\n",
        "    data_list = list(data)\n",
        "    item = list()\n",
        "    item.append(data_list[0]*1000)\n",
        "    item.append(float(data_list[1]))\n",
        "    data_ar_list.append(item)"
      ],
      "metadata": {
        "id": "NBf5u-DIOay0"
      },
      "execution_count": 34,
      "outputs": []
    },
    {
      "cell_type": "code",
      "source": [
        "data_ar_usd = df.filter('name = \"Argentina\"')\\\n",
        "                .drop('name', 'iso_a3', 'currency_code', 'GDP_dollar')\\\n",
        "                .rdd\\\n",
        "                .map(lambda x: (int(time.mktime(x.date.timetuple())), float(x.local_price)/float(x.dollar_ex)))\\\n",
        "                .collect()"
      ],
      "metadata": {
        "id": "HOnrW75x61fD"
      },
      "execution_count": 35,
      "outputs": []
    },
    {
      "cell_type": "code",
      "source": [
        "data_ar_usd"
      ],
      "metadata": {
        "colab": {
          "base_uri": "https://localhost:8080/"
        },
        "id": "zebQRuwRPBj_",
        "outputId": "97441671-c885-485d-b942-517c6be9c8c3"
      },
      "execution_count": 36,
      "outputs": [
        {
          "output_type": "execute_result",
          "data": {
            "text/plain": [
              "[(954547200, 2.5),\n",
              " (986083200, 2.5),\n",
              " (1017619200, 0.7987220447284346),\n",
              " (1049155200, 1.423611111111111),\n",
              " (1083369600, 1.4779661016949153),\n",
              " (1117584000, 1.6396272005522956),\n",
              " (1136073600, 1.550362295188981),\n",
              " (1146441600, 2.290201210534925),\n",
              " (1167609600, 2.670983407527317),\n",
              " (1180656000, 2.668607472100922),\n",
              " (1212278400, 3.642987249544627),\n",
              " (1246406400, 3.0173827484421123),\n",
              " (1262304000, 1.842832697117283),\n",
              " (1277942400, 3.558945027009851),\n",
              " (1309478400, 4.839685420447671),\n",
              " (1325376000, 4.636606004404776),\n",
              " (1341100800, 4.160963591568573),\n",
              " (1356998400, 3.8179443383904355),\n",
              " (1372636800, 3.8799076212471135),\n",
              " (1388534400, 3.0341340075853354),\n",
              " (1404172800, 2.5707727620504977),\n",
              " (1420070400, 3.2520325203252036),\n",
              " (1435708800, 3.0651340996168583),\n",
              " (1451606400, 2.3897025544472004),\n",
              " (1467331200, 3.3478406427854033),\n",
              " (1483228800, 3.4683903515686585),\n",
              " (1498867200, 4.1255341093266535),\n",
              " (1514764800, 3.9603960396039604),\n",
              " (1530403200, 2.7051397655545535),\n",
              " (1546300800, 2.002402883460152),\n",
              " (1562630400, 2.8705043715389493),\n",
              " (1578960000, 2.8468874031059372),\n",
              " (1593561600, 3.50923243962541),\n",
              " (1609459200, 3.7482313033537302),\n",
              " (1625097600, 3.94461961669716),\n",
              " (1640995200, 4.285040922140807)]"
            ]
          },
          "metadata": {},
          "execution_count": 36
        }
      ]
    },
    {
      "cell_type": "code",
      "source": [
        "df.groupBy().agg({ 'local_price': 'mean' }).show()"
      ],
      "metadata": {
        "colab": {
          "base_uri": "https://localhost:8080/"
        },
        "id": "SnMqeYve3sgK",
        "outputId": "2616476f-bdfb-4867-f3f5-132f9589c4ba"
      },
      "execution_count": 37,
      "outputs": [
        {
          "output_type": "stream",
          "name": "stdout",
          "text": [
            "+------------------+\n",
            "|  avg(local_price)|\n",
            "+------------------+\n",
            "|16264.709962031364|\n",
            "+------------------+\n",
            "\n"
          ]
        }
      ]
    },
    {
      "cell_type": "code",
      "source": [
        "df.fillna(0).show()"
      ],
      "metadata": {
        "colab": {
          "base_uri": "https://localhost:8080/"
        },
        "id": "R8KktV7l4NAz",
        "outputId": "3f09d7db-b318-4517-80a7-cdb78f29ce6b"
      },
      "execution_count": 38,
      "outputs": [
        {
          "output_type": "stream",
          "name": "stdout",
          "text": [
            "+--------------+------+-------------+-----------+-----------+----------+-------------------+\n",
            "|          name|iso_a3|currency_code|local_price|  dollar_ex|GDP_dollar|               date|\n",
            "+--------------+------+-------------+-----------+-----------+----------+-------------------+\n",
            "|     Argentina|   ARG|          ARS|        2.5|        1.0|       0.0|2000-04-01 00:00:00|\n",
            "|     Australia|   AUS|          AUD|       2.59|       1.68|       0.0|2000-04-01 00:00:00|\n",
            "|        Brazil|   BRA|          BRL|       2.95|       1.79|       0.0|2000-04-01 00:00:00|\n",
            "|       Britain|   GBR|          GBP|        1.9|0.632911392|       0.0|2000-04-01 00:00:00|\n",
            "|        Canada|   CAN|          CAD|       2.85|       1.47|       0.0|2000-04-01 00:00:00|\n",
            "|         Chile|   CHL|          CLP|     1260.0|      514.0|       0.0|2000-04-01 00:00:00|\n",
            "|         China|   CHN|          CNY|        9.9|       8.28|       0.0|2000-04-01 00:00:00|\n",
            "|Czech Republic|   CZE|          CZK|      54.37|       39.1|       0.0|2000-04-01 00:00:00|\n",
            "|       Denmark|   DNK|          DKK|      24.75|       8.04|       0.0|2000-04-01 00:00:00|\n",
            "|     Euro area|   EUZ|          EUR|       2.56|1.075268817|       0.0|2000-04-01 00:00:00|\n",
            "|     Hong Kong|   HKG|          HKD|       10.2|       7.79|       0.0|2000-04-01 00:00:00|\n",
            "|       Hungary|   HUN|          HUF|      339.0|      279.0|       0.0|2000-04-01 00:00:00|\n",
            "|     Indonesia|   IDN|          IDR|    14500.0|     7945.0|       0.0|2000-04-01 00:00:00|\n",
            "|        Israel|   ISR|          ILS|       14.5|       4.05|       0.0|2000-04-01 00:00:00|\n",
            "|         Japan|   JPN|          JPY|      294.0|      106.0|       0.0|2000-04-01 00:00:00|\n",
            "|      Malaysia|   MYS|          MYR|       4.52|        3.8|       0.0|2000-04-01 00:00:00|\n",
            "|        Mexico|   MEX|          MXN|       20.9|       9.41|       0.0|2000-04-01 00:00:00|\n",
            "|   New Zealand|   NZL|          NZD|        3.4|       2.01|       0.0|2000-04-01 00:00:00|\n",
            "|        Poland|   POL|          PLN|        5.5|        4.3|       0.0|2000-04-01 00:00:00|\n",
            "|        Russia|   RUS|          RUB|       39.5|       28.5|       0.0|2000-04-01 00:00:00|\n",
            "+--------------+------+-------------+-----------+-----------+----------+-------------------+\n",
            "only showing top 20 rows\n",
            "\n"
          ]
        }
      ]
    },
    {
      "cell_type": "code",
      "source": [
        "df.replace({'Argentina': 'AR'}, subset=['name']).show()"
      ],
      "metadata": {
        "colab": {
          "base_uri": "https://localhost:8080/"
        },
        "id": "oKFMCIYx4QzR",
        "outputId": "45ed750c-3c44-414c-bc53-47821576027c"
      },
      "execution_count": 39,
      "outputs": [
        {
          "output_type": "stream",
          "name": "stdout",
          "text": [
            "+--------------+------+-------------+-----------+-----------+----------+-------------------+\n",
            "|          name|iso_a3|currency_code|local_price|  dollar_ex|GDP_dollar|               date|\n",
            "+--------------+------+-------------+-----------+-----------+----------+-------------------+\n",
            "|            AR|   ARG|          ARS|        2.5|        1.0|      null|2000-04-01 00:00:00|\n",
            "|     Australia|   AUS|          AUD|       2.59|       1.68|      null|2000-04-01 00:00:00|\n",
            "|        Brazil|   BRA|          BRL|       2.95|       1.79|      null|2000-04-01 00:00:00|\n",
            "|       Britain|   GBR|          GBP|        1.9|0.632911392|      null|2000-04-01 00:00:00|\n",
            "|        Canada|   CAN|          CAD|       2.85|       1.47|      null|2000-04-01 00:00:00|\n",
            "|         Chile|   CHL|          CLP|     1260.0|      514.0|      null|2000-04-01 00:00:00|\n",
            "|         China|   CHN|          CNY|        9.9|       8.28|      null|2000-04-01 00:00:00|\n",
            "|Czech Republic|   CZE|          CZK|      54.37|       39.1|      null|2000-04-01 00:00:00|\n",
            "|       Denmark|   DNK|          DKK|      24.75|       8.04|      null|2000-04-01 00:00:00|\n",
            "|     Euro area|   EUZ|          EUR|       2.56|1.075268817|      null|2000-04-01 00:00:00|\n",
            "|     Hong Kong|   HKG|          HKD|       10.2|       7.79|      null|2000-04-01 00:00:00|\n",
            "|       Hungary|   HUN|          HUF|      339.0|      279.0|      null|2000-04-01 00:00:00|\n",
            "|     Indonesia|   IDN|          IDR|    14500.0|     7945.0|      null|2000-04-01 00:00:00|\n",
            "|        Israel|   ISR|          ILS|       14.5|       4.05|      null|2000-04-01 00:00:00|\n",
            "|         Japan|   JPN|          JPY|      294.0|      106.0|      null|2000-04-01 00:00:00|\n",
            "|      Malaysia|   MYS|          MYR|       4.52|        3.8|      null|2000-04-01 00:00:00|\n",
            "|        Mexico|   MEX|          MXN|       20.9|       9.41|      null|2000-04-01 00:00:00|\n",
            "|   New Zealand|   NZL|          NZD|        3.4|       2.01|      null|2000-04-01 00:00:00|\n",
            "|        Poland|   POL|          PLN|        5.5|        4.3|      null|2000-04-01 00:00:00|\n",
            "|        Russia|   RUS|          RUB|       39.5|       28.5|      null|2000-04-01 00:00:00|\n",
            "+--------------+------+-------------+-----------+-----------+----------+-------------------+\n",
            "only showing top 20 rows\n",
            "\n"
          ]
        }
      ]
    },
    {
      "cell_type": "code",
      "source": [
        "df.selectExpr(\"*\",\"local_price * dollar_ex as usd_price\").show()"
      ],
      "metadata": {
        "colab": {
          "base_uri": "https://localhost:8080/"
        },
        "id": "PnhkFzws4TXW",
        "outputId": "13b9a448-98f3-4d92-e1fb-4c1d09972a5c"
      },
      "execution_count": 40,
      "outputs": [
        {
          "output_type": "stream",
          "name": "stdout",
          "text": [
            "+--------------+------+-------------+-----------+-----------+----------+-------------------+------------------+\n",
            "|          name|iso_a3|currency_code|local_price|  dollar_ex|GDP_dollar|               date|         usd_price|\n",
            "+--------------+------+-------------+-----------+-----------+----------+-------------------+------------------+\n",
            "|     Argentina|   ARG|          ARS|        2.5|        1.0|      null|2000-04-01 00:00:00|               2.5|\n",
            "|     Australia|   AUS|          AUD|       2.59|       1.68|      null|2000-04-01 00:00:00|4.3511999999999995|\n",
            "|        Brazil|   BRA|          BRL|       2.95|       1.79|      null|2000-04-01 00:00:00| 5.280500000000001|\n",
            "|       Britain|   GBR|          GBP|        1.9|0.632911392|      null|2000-04-01 00:00:00|      1.2025316448|\n",
            "|        Canada|   CAN|          CAD|       2.85|       1.47|      null|2000-04-01 00:00:00|            4.1895|\n",
            "|         Chile|   CHL|          CLP|     1260.0|      514.0|      null|2000-04-01 00:00:00|          647640.0|\n",
            "|         China|   CHN|          CNY|        9.9|       8.28|      null|2000-04-01 00:00:00|            81.972|\n",
            "|Czech Republic|   CZE|          CZK|      54.37|       39.1|      null|2000-04-01 00:00:00|          2125.867|\n",
            "|       Denmark|   DNK|          DKK|      24.75|       8.04|      null|2000-04-01 00:00:00|198.98999999999998|\n",
            "|     Euro area|   EUZ|          EUR|       2.56|1.075268817|      null|2000-04-01 00:00:00|     2.75268817152|\n",
            "|     Hong Kong|   HKG|          HKD|       10.2|       7.79|      null|2000-04-01 00:00:00|            79.458|\n",
            "|       Hungary|   HUN|          HUF|      339.0|      279.0|      null|2000-04-01 00:00:00|           94581.0|\n",
            "|     Indonesia|   IDN|          IDR|    14500.0|     7945.0|      null|2000-04-01 00:00:00|        1.152025E8|\n",
            "|        Israel|   ISR|          ILS|       14.5|       4.05|      null|2000-04-01 00:00:00|58.724999999999994|\n",
            "|         Japan|   JPN|          JPY|      294.0|      106.0|      null|2000-04-01 00:00:00|           31164.0|\n",
            "|      Malaysia|   MYS|          MYR|       4.52|        3.8|      null|2000-04-01 00:00:00|            17.176|\n",
            "|        Mexico|   MEX|          MXN|       20.9|       9.41|      null|2000-04-01 00:00:00|196.66899999999998|\n",
            "|   New Zealand|   NZL|          NZD|        3.4|       2.01|      null|2000-04-01 00:00:00| 6.833999999999999|\n",
            "|        Poland|   POL|          PLN|        5.5|        4.3|      null|2000-04-01 00:00:00|             23.65|\n",
            "|        Russia|   RUS|          RUB|       39.5|       28.5|      null|2000-04-01 00:00:00|           1125.75|\n",
            "+--------------+------+-------------+-----------+-----------+----------+-------------------+------------------+\n",
            "only showing top 20 rows\n",
            "\n"
          ]
        }
      ]
    },
    {
      "cell_type": "code",
      "source": [
        "df.groupBy(\"name\").pivot(\"date\").min('local_price').show()"
      ],
      "metadata": {
        "colab": {
          "base_uri": "https://localhost:8080/"
        },
        "id": "_nZ-2MjE4aj3",
        "outputId": "7caaac21-acf9-4271-8bad-9da65579fca4"
      },
      "execution_count": 41,
      "outputs": [
        {
          "output_type": "stream",
          "name": "stdout",
          "text": [
            "+-----------+-------------------+-------------------+-------------------+-------------------+-------------------+-------------------+-------------------+-------------------+-------------------+-------------------+-------------------+-------------------+-------------------+-------------------+-------------------+-------------------+-------------------+-------------------+-------------------+-------------------+-------------------+-------------------+-------------------+-------------------+-------------------+-------------------+-------------------+-------------------+-------------------+-------------------+-------------------+-------------------+-------------------+-------------------+-------------------+-------------------+\n",
            "|       name|2000-04-01 00:00:00|2001-04-01 00:00:00|2002-04-01 00:00:00|2003-04-01 00:00:00|2004-05-01 00:00:00|2005-06-01 00:00:00|2006-01-01 00:00:00|2006-05-01 00:00:00|2007-01-01 00:00:00|2007-06-01 00:00:00|2008-06-01 00:00:00|2009-07-01 00:00:00|2010-01-01 00:00:00|2010-07-01 00:00:00|2011-07-01 00:00:00|2012-01-01 00:00:00|2012-07-01 00:00:00|2013-01-01 00:00:00|2013-07-01 00:00:00|2014-01-01 00:00:00|2014-07-01 00:00:00|2015-01-01 00:00:00|2015-07-01 00:00:00|2016-01-01 00:00:00|2016-07-01 00:00:00|2017-01-01 00:00:00|2017-07-01 00:00:00|2018-01-01 00:00:00|2018-07-01 00:00:00|2019-01-01 00:00:00|2019-07-09 00:00:00|2020-01-14 00:00:00|2020-07-01 00:00:00|2021-01-01 00:00:00|2021-07-01 00:00:00|2022-01-01 00:00:00|\n",
            "+-----------+-------------------+-------------------+-------------------+-------------------+-------------------+-------------------+-------------------+-------------------+-------------------+-------------------+-------------------+-------------------+-------------------+-------------------+-------------------+-------------------+-------------------+-------------------+-------------------+-------------------+-------------------+-------------------+-------------------+-------------------+-------------------+-------------------+-------------------+-------------------+-------------------+-------------------+-------------------+-------------------+-------------------+-------------------+-------------------+-------------------+\n",
            "|     Russia|               39.5|               35.0|               39.0|               41.0|               42.0|               42.0|               46.0|               48.0|               49.0|               52.0|               59.0|               67.0|               70.0|               71.0|               75.0|               81.0|               75.0|              72.88|               87.0|               89.0|               89.0|               89.0|              107.0|              114.0|              130.0|              130.0|              137.0|              130.0|              130.0|             110.17|              130.0|              135.0|              135.0|              135.0|              135.0|              135.0|\n",
            "|     Sweden|               24.0|               24.0|               26.0|               30.0|               30.0|               31.0|               33.0|               33.0|               32.0|               33.0|               38.0|               39.0|               39.0|               48.4|               48.4|               41.0|        39.97301987|        40.55930138|              41.61|               40.7|               40.7|               40.7|               43.7|               45.0|              44.94|               48.0|              48.97|               49.1|               51.0|               52.0|               51.0|               51.5|               52.6|              52.88|               54.0|               54.0|\n",
            "|Philippines|               null|               59.0|               65.0|               65.0|               69.0|               80.0|               82.0|               85.0|               85.0|               85.0|               87.0|              99.39|             101.52|              102.0|              118.0|              118.0|              118.0|              118.0|             115.21|              135.0|              160.0|              163.0|              163.0|              131.0|              133.0|              133.0|              134.0|              134.0|              140.0|              140.0|              142.0|              142.0|              142.0|              142.0|              142.0|              142.0|\n",
            "|  Singapore|                3.2|                3.3|                3.3|                3.3|                3.3|                3.6|                3.6|                3.6|                3.6|               3.95|               3.95|               4.22|               4.45|               4.23|               4.41|               4.85|                4.4|                4.5|                4.7|                4.6|                4.7|                4.7|                4.7|                4.7|               5.45|                5.6|                5.6|                5.8|                5.8|                5.8|                5.8|                5.9|                5.9|                5.9|                5.9|                5.9|\n",
            "|   Malaysia|               4.52|               4.52|               5.04|               5.04|               5.04|               5.25|                5.5|                5.5|                5.5|                5.5|                5.5|               6.77|               7.05|               7.05|                7.2|               7.35|                7.4|               7.95|                7.3|                7.4|               7.63|               7.63|               7.65|                8.0|                8.0|                8.0|                8.6|                9.0|               8.45|               9.05|               8.85|                9.5|               9.99|               9.99|               9.99|               9.99|\n",
            "|    Britain|                1.9|               1.99|               1.99|               1.99|               1.88|               1.88|               1.88|               1.94|               1.94|               1.99|               2.29|               2.29|               2.29|               2.29|               2.39|               2.49|               2.69|               2.69|               2.69|               2.79|               2.89|               2.89|               2.89|               2.89|               2.99|               3.09|               3.19|               3.19|               3.19|               3.19|               3.29|               3.39|               3.39|               3.29|               3.49|               3.59|\n",
            "|     Turkey|               null|               null|          4000000.0|          3750000.0|          3950000.0|                4.0|                4.1|                4.2|               4.55|               4.75|               5.15|               5.65|               5.65|               5.95|                6.5|                6.6|               8.25|               8.45|                8.5|                8.5|               9.25|               9.25|              10.25|              10.25|              10.75|              10.75|              10.75|              10.75|              10.75|              10.75|              13.99|              12.99|              13.99|              14.99|              19.99|              24.99|\n",
            "|    Germany|               null|               null|               null|               null|               null|               null|               null|               null|               null|               null|               null|               null|               null|               null|                3.4|               3.53|               3.64|               3.64|               3.64|               3.67|               3.67|               3.67|               3.59|               3.59|               3.79|               3.79|                3.9|                3.9|               4.12|               4.12|               4.14|               4.14|               4.45|               4.46|               4.45|               4.46|\n",
            "|     Jordan|               null|               null|               null|               null|               null|               null|               null|               null|               null|               null|               null|               null|               null|               null|               null|               null|               null|               null|               null|               null|               null|               null|               null|               null|               null|               null|               null|               null|               1.95|               1.95|                2.3|                2.3|                2.3|                2.3|               2.13|               2.12|\n",
            "|     France|               null|               null|               null|               null|               null|               null|               null|               null|               null|               null|               null|               null|               null|               null|                3.5|                3.6|                3.6|                3.6|                3.9|                3.8|                3.9|                3.9|                4.1|                4.1|                4.1|                4.1|                4.1|                4.2|                4.2|                4.2|                4.2|                4.2|                4.2|                4.2|                4.3|               4.35|\n",
            "|     Greece|               null|               null|               null|               null|               null|               null|               null|               null|               null|               null|               null|               null|               null|               null|               3.26|                3.3|              2.683|                3.3|                2.6|               3.05|               3.05|               3.05|               3.05|               3.35|               3.35|               3.35|               3.35|               3.35|               3.35|               3.35|                3.3|                3.3|                3.3|                3.3|                3.3|                3.4|\n",
            "|  Sri Lanka|               null|               null|               null|               null|              140.0|              175.0|               null|              190.0|              190.0|              210.0|              210.0|              210.0|              210.0|              210.0|              280.0|              290.0|              290.0|              350.0|              370.0|              350.0|              350.0|              350.0|              350.0|              350.0|              530.0|              550.0|              580.0|              580.0|              580.0|              580.0|              640.0|              580.0|              680.0|              700.0|              700.0|              840.0|\n",
            "|     Taiwan|               70.0|               70.0|               70.0|               70.0|               75.0|               75.0|               75.0|               75.0|               75.0|               75.0|               75.0|               75.0|               75.0|               75.0|               75.0|               75.0|               75.0|               75.0|               79.0|               79.0|               79.0|               79.0|               79.0|               69.0|               69.0|               69.0|               69.0|               69.0|               69.0|               69.0|               72.0|               72.0|               72.0|               72.0|               72.0|               75.0|\n",
            "|   Slovakia|               null|               null|               null|               null|               null|               null|               null|               null|               null|               null|               null|               null|               null|               null|               null|               null|               null|               null|               null|               null|               null|               null|               null|               null|               null|               null|               null|               null|                3.0|                3.2|                3.2|                3.4|                3.6|                3.7|                3.7|                3.8|\n",
            "|  Argentina|                2.5|                2.5|                2.5|                4.1|               4.36|               4.75|               4.75|                7.0|               8.25|               8.25|               11.0|               11.5|                7.0|               14.0|               20.0|               20.0|               19.0|               19.0|               21.0|               21.0|               21.0|               28.0|               28.0|               33.0|               50.0|               55.0|               70.0|               75.0|               75.0|               75.0|              120.0|              171.0|              250.0|              320.0|              380.0|              450.0|\n",
            "|    Belgium|               null|               null|               null|               null|               null|               null|               null|               null|               null|               null|               null|               null|               null|               null|               3.75|                3.7|                3.8|                3.8|                3.7|               3.95|                3.7|                3.7|                3.7|               3.95|               3.95|               3.95|               4.05|                4.1|                4.1|                4.2|                4.2|                4.3|               4.35|               4.35|               4.45|               4.55|\n",
            "|      Qatar|               null|               null|               null|               null|               null|               null|               null|               null|               null|               null|               null|               null|               null|               null|               null|               null|               null|               null|               null|               null|               null|               null|               null|               null|               null|               null|               null|               null|               12.0|               12.0|               13.0|               13.0|               13.0|               13.0|               13.0|               13.0|\n",
            "|    Finland|               null|               null|               null|               null|               null|               null|               null|               null|               null|               null|               null|               null|               null|               null|               3.75|               3.75|               3.75|               3.75|                4.1|                4.1|                4.1|                4.1|                4.1|                4.1|                4.6|               4.55|               4.56|               4.56|               4.62|               4.62|               4.75|               4.83|               4.88|               4.87|               4.89|               4.95|\n",
            "|  Nicaragua|               null|               null|               null|               null|               null|               null|               null|               null|               null|               null|               null|               null|               null|               null|               null|               null|               null|               null|               null|               null|               null|               null|               null|               null|               null|               null|               null|               null|              103.0|              103.0|              110.0|              120.0|              120.0|              124.0|              128.0|              134.0|\n",
            "|       Peru|               null|               null|                8.5|                7.9|               8.99|               8.99|                9.5|                9.5|                9.5|                9.5|                9.5|              8.056|              8.056|               10.0|               10.0|               10.0|               null|               10.0|               10.0|               10.0|               10.0|               10.0|               10.0|               10.0|               10.0|               11.0|               10.5|               10.5|               10.5|               10.5|               10.5|               11.9|               11.9|               11.9|               12.9|               12.9|\n",
            "+-----------+-------------------+-------------------+-------------------+-------------------+-------------------+-------------------+-------------------+-------------------+-------------------+-------------------+-------------------+-------------------+-------------------+-------------------+-------------------+-------------------+-------------------+-------------------+-------------------+-------------------+-------------------+-------------------+-------------------+-------------------+-------------------+-------------------+-------------------+-------------------+-------------------+-------------------+-------------------+-------------------+-------------------+-------------------+-------------------+-------------------+\n",
            "only showing top 20 rows\n",
            "\n"
          ]
        }
      ]
    },
    {
      "cell_type": "code",
      "source": [
        "df.registerTempTable('bigmac')"
      ],
      "metadata": {
        "colab": {
          "base_uri": "https://localhost:8080/"
        },
        "id": "sehWpd4iPWYM",
        "outputId": "1920f89c-f503-4e76-b19f-d336d365a0a0"
      },
      "execution_count": 42,
      "outputs": [
        {
          "output_type": "stream",
          "name": "stderr",
          "text": [
            "/usr/local/lib/python3.7/dist-packages/pyspark/sql/dataframe.py:229: FutureWarning: Deprecated in 2.0, use createOrReplaceTempView instead.\n",
            "  warnings.warn(\"Deprecated in 2.0, use createOrReplaceTempView instead.\", FutureWarning)\n"
          ]
        }
      ]
    },
    {
      "cell_type": "code",
      "source": [
        "sqlContext.sql('select name, max(local_price) from bigmac group by name order by max(local_price) asc limit 10 ').show()"
      ],
      "metadata": {
        "colab": {
          "base_uri": "https://localhost:8080/"
        },
        "id": "CsdcXgkJPXpr",
        "outputId": "7a4fbcb1-8a64-4ccc-8c47-a295d7edc094"
      },
      "execution_count": 43,
      "outputs": [
        {
          "output_type": "stream",
          "name": "stdout",
          "text": [
            "+--------+----------------+\n",
            "|    name|max(local_price)|\n",
            "+--------+----------------+\n",
            "|    Oman|            1.21|\n",
            "|  Kuwait|            1.25|\n",
            "| Bahrain|             1.5|\n",
            "|  Jordan|             2.3|\n",
            "|Slovenia|             2.8|\n",
            "|  Latvia|            2.85|\n",
            "|  Greece|             3.4|\n",
            "| Estonia|             3.4|\n",
            "| Britain|            3.59|\n",
            "|Slovakia|             3.8|\n",
            "+--------+----------------+\n",
            "\n"
          ]
        }
      ]
    }
  ]
}