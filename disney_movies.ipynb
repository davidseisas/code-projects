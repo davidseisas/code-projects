{
  "cells": [
    {
      "cell_type": "code",
      "source": [
        "!pip install pyspark\n",
        "!pip install -U -q PyDrive\n",
        "!apt update\n",
        "!apt install openjdk-8-jdk-headless -qq\n",
        "!apt install default-jre\n",
        "!apt install default-jdk\n",
        "import os\n",
        "os.environ[\"JAVA_HOME\"] = \"/usr/lib/jvm/java-8-openjdk-amd64\""
      ],
      "metadata": {
        "colab": {
          "base_uri": "https://localhost:8080/"
        },
        "id": "7fGlUK7Zwft0",
        "outputId": "297a0f4b-9a15-4d90-ecfe-a6a80c3e4837"
      },
      "execution_count": null,
      "outputs": [
        {
          "output_type": "stream",
          "name": "stdout",
          "text": [
            "Looking in indexes: https://pypi.org/simple, https://us-python.pkg.dev/colab-wheels/public/simple/\n",
            "Requirement already satisfied: pyspark in /usr/local/lib/python3.7/dist-packages (3.3.0)\n",
            "Requirement already satisfied: py4j==0.10.9.5 in /usr/local/lib/python3.7/dist-packages (from pyspark) (0.10.9.5)\n",
            "Hit:1 http://security.ubuntu.com/ubuntu bionic-security InRelease\n",
            "Hit:2 https://cloud.r-project.org/bin/linux/ubuntu bionic-cran40/ InRelease\n",
            "Hit:3 http://ppa.launchpad.net/c2d4u.team/c2d4u4.0+/ubuntu bionic InRelease\n",
            "Hit:4 http://archive.ubuntu.com/ubuntu bionic InRelease\n",
            "Ign:5 https://developer.download.nvidia.com/compute/machine-learning/repos/ubuntu1804/x86_64  InRelease\n",
            "Hit:6 https://developer.download.nvidia.com/compute/cuda/repos/ubuntu1804/x86_64  InRelease\n",
            "Hit:7 https://developer.download.nvidia.com/compute/machine-learning/repos/ubuntu1804/x86_64  Release\n",
            "Hit:8 http://archive.ubuntu.com/ubuntu bionic-updates InRelease\n",
            "Hit:9 http://ppa.launchpad.net/cran/libgit2/ubuntu bionic InRelease\n",
            "Hit:10 http://archive.ubuntu.com/ubuntu bionic-backports InRelease\n",
            "Hit:11 http://ppa.launchpad.net/deadsnakes/ppa/ubuntu bionic InRelease\n",
            "Hit:12 http://ppa.launchpad.net/graphics-drivers/ppa/ubuntu bionic InRelease\n",
            "Reading package lists... Done\n",
            "Building dependency tree       \n",
            "Reading state information... Done\n",
            "25 packages can be upgraded. Run 'apt list --upgradable' to see them.\n",
            "openjdk-8-jdk-headless is already the newest version (8u342-b07-0ubuntu1~18.04).\n",
            "The following package was automatically installed and is no longer required:\n",
            "  libnvidia-common-460\n",
            "Use 'apt autoremove' to remove it.\n",
            "0 upgraded, 0 newly installed, 0 to remove and 25 not upgraded.\n",
            "Reading package lists... Done\n",
            "Building dependency tree       \n",
            "Reading state information... Done\n",
            "default-jre is already the newest version (2:1.11-68ubuntu1~18.04.1).\n",
            "The following package was automatically installed and is no longer required:\n",
            "  libnvidia-common-460\n",
            "Use 'apt autoremove' to remove it.\n",
            "0 upgraded, 0 newly installed, 0 to remove and 25 not upgraded.\n",
            "Reading package lists... Done\n",
            "Building dependency tree       \n",
            "Reading state information... Done\n",
            "default-jdk is already the newest version (2:1.11-68ubuntu1~18.04.1).\n",
            "The following package was automatically installed and is no longer required:\n",
            "  libnvidia-common-460\n",
            "Use 'apt autoremove' to remove it.\n",
            "0 upgraded, 0 newly installed, 0 to remove and 25 not upgraded.\n"
          ]
        }
      ]
    },
    {
      "cell_type": "code",
      "source": [
        "from pydrive.auth import GoogleAuth\n",
        "from pydrive.drive import GoogleDrive\n",
        "from google.colab import auth\n",
        "from oauth2client.client import GoogleCredentials\n",
        "from pyspark.sql import *\n",
        "from pyspark.sql.functions import *\n",
        "from pyspark import SparkContext\n",
        "from pyspark.sql import SQLContext\n",
        "import pandas as pd"
      ],
      "metadata": {
        "id": "KGNqC6eKwtZk"
      },
      "execution_count": null,
      "outputs": []
    },
    {
      "cell_type": "code",
      "source": [
        "auth.authenticate_user()\n",
        "gauth = GoogleAuth()\n",
        "gauth.credentials = GoogleCredentials.get_application_default()\n",
        "drive = GoogleDrive(gauth)"
      ],
      "metadata": {
        "id": "0aEEFEOtww-3"
      },
      "execution_count": null,
      "outputs": []
    },
    {
      "cell_type": "code",
      "source": [
        "downloaded = drive.CreateFile({'id':\"17CeUiEqwSMOLf7WBNqqVY7zLyRMqZbl3\"})\n",
        "downloaded.GetContentFile('disney_movies.csv') "
      ],
      "metadata": {
        "id": "mLwtjzZtw-bU"
      },
      "execution_count": null,
      "outputs": []
    },
    {
      "cell_type": "code",
      "source": [
        "spark = SparkSession.builder.getOrCreate()\n",
        "sc = spark.sparkContext"
      ],
      "metadata": {
        "id": "DoOAXL9Xw_dR"
      },
      "execution_count": null,
      "outputs": []
    },
    {
      "cell_type": "code",
      "source": [
        "sqlContext = SQLContext(sc)\n",
        "df = sqlContext.read.csv('disney_movies.csv', header=True, inferSchema=True)\n",
        "rdd = df.rdd"
      ],
      "metadata": {
        "colab": {
          "base_uri": "https://localhost:8080/"
        },
        "id": "P3T3CaHdxCOH",
        "outputId": "66f6bccf-f7fc-403c-ccbc-81fb467d8b73"
      },
      "execution_count": null,
      "outputs": [
        {
          "output_type": "stream",
          "name": "stderr",
          "text": [
            "/usr/local/lib/python3.7/dist-packages/pyspark/sql/context.py:114: FutureWarning: Deprecated in 3.0.0. Use SparkSession.builder.getOrCreate() instead.\n",
            "  FutureWarning,\n"
          ]
        }
      ]
    },
    {
      "cell_type": "code",
      "source": [
        "rdd.count()"
      ],
      "metadata": {
        "colab": {
          "base_uri": "https://localhost:8080/"
        },
        "id": "SPpWR8IJxFcM",
        "outputId": "43b67b6f-da30-41e6-a806-8c6f6faef667"
      },
      "execution_count": null,
      "outputs": [
        {
          "output_type": "execute_result",
          "data": {
            "text/plain": [
              "579"
            ]
          },
          "metadata": {},
          "execution_count": 7
        }
      ]
    },
    {
      "cell_type": "code",
      "source": [
        "rdd.first()"
      ],
      "metadata": {
        "colab": {
          "base_uri": "https://localhost:8080/"
        },
        "id": "zkkew3KRxJRq",
        "outputId": "a4e13367-78de-46f4-f91e-efa99191275d"
      },
      "execution_count": null,
      "outputs": [
        {
          "output_type": "execute_result",
          "data": {
            "text/plain": [
              "Row(movie_title='Snow White and the Seven Dwarfs', release_date=datetime.datetime(1937, 12, 21, 0, 0), genre='Musical', mpaa_rating='G', total_gross=184925485, inflation_adjusted_gross=5228953251)"
            ]
          },
          "metadata": {},
          "execution_count": 8
        }
      ]
    },
    {
      "cell_type": "code",
      "source": [
        "rdd.take(5)"
      ],
      "metadata": {
        "colab": {
          "base_uri": "https://localhost:8080/"
        },
        "id": "mCArEmPRxLjn",
        "outputId": "311cb669-d964-4a9c-c041-71bcdb9c8a91"
      },
      "execution_count": null,
      "outputs": [
        {
          "output_type": "execute_result",
          "data": {
            "text/plain": [
              "[Row(movie_title='Snow White and the Seven Dwarfs', release_date=datetime.datetime(1937, 12, 21, 0, 0), genre='Musical', mpaa_rating='G', total_gross=184925485, inflation_adjusted_gross=5228953251),\n",
              " Row(movie_title='Pinocchio', release_date=datetime.datetime(1940, 2, 9, 0, 0), genre='Adventure', mpaa_rating='G', total_gross=84300000, inflation_adjusted_gross=2188229052),\n",
              " Row(movie_title='Fantasia', release_date=datetime.datetime(1940, 11, 13, 0, 0), genre='Musical', mpaa_rating='G', total_gross=83320000, inflation_adjusted_gross=2187090808),\n",
              " Row(movie_title='Song of the South', release_date=datetime.datetime(1946, 11, 12, 0, 0), genre='Adventure', mpaa_rating='G', total_gross=65000000, inflation_adjusted_gross=1078510579),\n",
              " Row(movie_title='Cinderella', release_date=datetime.datetime(1950, 2, 15, 0, 0), genre='Drama', mpaa_rating='G', total_gross=85000000, inflation_adjusted_gross=920608730)]"
            ]
          },
          "metadata": {},
          "execution_count": 9
        }
      ]
    },
    {
      "cell_type": "code",
      "source": [
        "rdd.map(lambda x: x.genre).take(5)"
      ],
      "metadata": {
        "colab": {
          "base_uri": "https://localhost:8080/"
        },
        "id": "wGRNnRefxNmY",
        "outputId": "f82f0813-4a99-4a94-9076-7d7d884a8947"
      },
      "execution_count": null,
      "outputs": [
        {
          "output_type": "execute_result",
          "data": {
            "text/plain": [
              "['Musical', 'Adventure', 'Musical', 'Adventure', 'Drama']"
            ]
          },
          "metadata": {},
          "execution_count": 10
        }
      ]
    },
    {
      "cell_type": "code",
      "source": [
        "rdd.map(lambda x: ((x[2],x[1]),(1,\"hola\"))).take(5)"
      ],
      "metadata": {
        "colab": {
          "base_uri": "https://localhost:8080/"
        },
        "id": "xmHvt9ipxQRZ",
        "outputId": "bfbcd9d6-486a-4210-9f07-ca2415b0cae7"
      },
      "execution_count": null,
      "outputs": [
        {
          "output_type": "execute_result",
          "data": {
            "text/plain": [
              "[(('Musical', datetime.datetime(1937, 12, 21, 0, 0)), (1, 'hola')),\n",
              " (('Adventure', datetime.datetime(1940, 2, 9, 0, 0)), (1, 'hola')),\n",
              " (('Musical', datetime.datetime(1940, 11, 13, 0, 0)), (1, 'hola')),\n",
              " (('Adventure', datetime.datetime(1946, 11, 12, 0, 0)), (1, 'hola')),\n",
              " (('Drama', datetime.datetime(1950, 2, 15, 0, 0)), (1, 'hola'))]"
            ]
          },
          "metadata": {},
          "execution_count": 11
        }
      ]
    },
    {
      "cell_type": "code",
      "source": [
        "rdd.map(lambda x: x.genre).distinct().count()"
      ],
      "metadata": {
        "colab": {
          "base_uri": "https://localhost:8080/"
        },
        "id": "6C9OspMExSwP",
        "outputId": "8cf77bfc-7034-481a-e2e6-9a3326c5d924"
      },
      "execution_count": null,
      "outputs": [
        {
          "output_type": "execute_result",
          "data": {
            "text/plain": [
              "13"
            ]
          },
          "metadata": {},
          "execution_count": 12
        }
      ]
    },
    {
      "cell_type": "code",
      "source": [
        "rdd.map(lambda x: x.genre).distinct().collect()"
      ],
      "metadata": {
        "colab": {
          "base_uri": "https://localhost:8080/"
        },
        "id": "v_XFL4bgxVSh",
        "outputId": "87ec6a34-c548-45eb-c2fe-bea4e2dc9979"
      },
      "execution_count": null,
      "outputs": [
        {
          "output_type": "execute_result",
          "data": {
            "text/plain": [
              "['Musical',\n",
              " 'Adventure',\n",
              " 'Drama',\n",
              " 'Comedy',\n",
              " None,\n",
              " 'Action',\n",
              " 'Horror',\n",
              " 'Romantic Comedy',\n",
              " 'Thriller/Suspense',\n",
              " 'Western',\n",
              " 'Black Comedy',\n",
              " 'Documentary',\n",
              " 'Concert/Performance']"
            ]
          },
          "metadata": {},
          "execution_count": 13
        }
      ]
    },
    {
      "cell_type": "code",
      "source": [
        "rdd.map(lambda x: (x.genre,1)).countByKey()"
      ],
      "metadata": {
        "colab": {
          "base_uri": "https://localhost:8080/"
        },
        "id": "x6SxCQoHxXmx",
        "outputId": "d6c97bc5-5b3c-4289-accd-d5c1d81a7587"
      },
      "execution_count": null,
      "outputs": [
        {
          "output_type": "execute_result",
          "data": {
            "text/plain": [
              "defaultdict(int,\n",
              "            {'Musical': 16,\n",
              "             'Adventure': 129,\n",
              "             'Drama': 114,\n",
              "             'Comedy': 182,\n",
              "             None: 17,\n",
              "             'Action': 40,\n",
              "             'Horror': 6,\n",
              "             'Romantic Comedy': 23,\n",
              "             'Thriller/Suspense': 24,\n",
              "             'Western': 7,\n",
              "             'Black Comedy': 3,\n",
              "             'Documentary': 16,\n",
              "             'Concert/Performance': 2})"
            ]
          },
          "metadata": {},
          "execution_count": 14
        }
      ]
    },
    {
      "cell_type": "code",
      "source": [
        "rdd.map(lambda x: (x.genre,1)).reduceByKey(lambda x,y: x+y).reduce(lambda x,y: x if x[1] > y[1] else y)"
      ],
      "metadata": {
        "colab": {
          "base_uri": "https://localhost:8080/"
        },
        "id": "xvM62VW6xZse",
        "outputId": "be1b5a9e-66c1-47df-db6c-9c99e105fdcc"
      },
      "execution_count": null,
      "outputs": [
        {
          "output_type": "execute_result",
          "data": {
            "text/plain": [
              "('Comedy', 182)"
            ]
          },
          "metadata": {},
          "execution_count": 15
        }
      ]
    },
    {
      "cell_type": "code",
      "source": [
        "rdd.map(lambda x: (x.genre,1)).reduceByKey(lambda x,y: x+y).takeOrdered(20, lambda x: -x[1])"
      ],
      "metadata": {
        "colab": {
          "base_uri": "https://localhost:8080/"
        },
        "id": "KCMeFS4rxcFB",
        "outputId": "66fd5f3d-2be8-4ca3-eb6d-a969e66d31c8"
      },
      "execution_count": null,
      "outputs": [
        {
          "output_type": "execute_result",
          "data": {
            "text/plain": [
              "[('Comedy', 182),\n",
              " ('Adventure', 129),\n",
              " ('Drama', 114),\n",
              " ('Action', 40),\n",
              " ('Thriller/Suspense', 24),\n",
              " ('Romantic Comedy', 23),\n",
              " (None, 17),\n",
              " ('Musical', 16),\n",
              " ('Documentary', 16),\n",
              " ('Western', 7),\n",
              " ('Horror', 6),\n",
              " ('Black Comedy', 3),\n",
              " ('Concert/Performance', 2)]"
            ]
          },
          "metadata": {},
          "execution_count": 16
        }
      ]
    },
    {
      "cell_type": "code",
      "source": [
        "rdd.reduce(lambda x,y: x if x.inflation_adjusted_gross > y.inflation_adjusted_gross else y)"
      ],
      "metadata": {
        "colab": {
          "base_uri": "https://localhost:8080/"
        },
        "id": "uvrLkCMbxtf1",
        "outputId": "f59f8407-9741-4800-e3ee-d4bb926791ea"
      },
      "execution_count": null,
      "outputs": [
        {
          "output_type": "execute_result",
          "data": {
            "text/plain": [
              "Row(movie_title='Snow White and the Seven Dwarfs', release_date=datetime.datetime(1937, 12, 21, 0, 0), genre='Musical', mpaa_rating='G', total_gross=184925485, inflation_adjusted_gross=5228953251)"
            ]
          },
          "metadata": {},
          "execution_count": 17
        }
      ]
    },
    {
      "cell_type": "code",
      "source": [
        "rdd.takeOrdered(10, lambda x: x.inflation_adjusted_gross)"
      ],
      "metadata": {
        "colab": {
          "base_uri": "https://localhost:8080/"
        },
        "id": "KOSynu04xwC3",
        "outputId": "6b01d608-dad6-41b2-8b76-24aff41ea289"
      },
      "execution_count": null,
      "outputs": [
        {
          "output_type": "execute_result",
          "data": {
            "text/plain": [
              "[Row(movie_title='The Many Adventures of Winnie the Pooh', release_date=datetime.datetime(1977, 3, 11, 0, 0), genre=None, mpaa_rating=None, total_gross=0, inflation_adjusted_gross=0),\n",
              " Row(movie_title='Amy', release_date=datetime.datetime(1981, 3, 20, 0, 0), genre='Drama', mpaa_rating=None, total_gross=0, inflation_adjusted_gross=0),\n",
              " Row(movie_title='Condorman', release_date=datetime.datetime(1981, 8, 7, 0, 0), genre='Action', mpaa_rating=None, total_gross=0, inflation_adjusted_gross=0),\n",
              " Row(movie_title='Frank McKlusky C.I.', release_date=datetime.datetime(2002, 1, 1, 0, 0), genre=None, mpaa_rating=None, total_gross=0, inflation_adjusted_gross=0),\n",
              " Row(movie_title='Zokkomon', release_date=datetime.datetime(2011, 4, 22, 0, 0), genre='Adventure', mpaa_rating='PG', total_gross=2815, inflation_adjusted_gross=2984),\n",
              " Row(movie_title='Walt and El Grupo', release_date=datetime.datetime(2009, 9, 10, 0, 0), genre='Documentary', mpaa_rating='PG', total_gross=20521, inflation_adjusted_gross=23064),\n",
              " Row(movie_title='Gedo Senki (Tales from Earthsea)', release_date=datetime.datetime(2010, 8, 13, 0, 0), genre='Adventure', mpaa_rating='PG-13', total_gross=48658, inflation_adjusted_gross=51988),\n",
              " Row(movie_title='The War at Home', release_date=datetime.datetime(1996, 11, 20, 0, 0), genre=None, mpaa_rating='R', total_gross=34368, inflation_adjusted_gross=65543),\n",
              " Row(movie_title='An Alan Smithee Film: Burn Hollywood …', release_date=datetime.datetime(1998, 2, 27, 0, 0), genre='Comedy', mpaa_rating='R', total_gross=45779, inflation_adjusted_gross=82277),\n",
              " Row(movie_title='Waking Sleeping Beauty', release_date=datetime.datetime(2010, 3, 26, 0, 0), genre='Documentary', mpaa_rating='PG', total_gross=80741, inflation_adjusted_gross=86264)]"
            ]
          },
          "metadata": {},
          "execution_count": 18
        }
      ]
    }
  ],
  "metadata": {
    "colab": {
      "collapsed_sections": [],
      "name": "disney_movies.ipynb",
      "provenance": [],
      "toc_visible": true,
      "mount_file_id": "1HidSSSq6CR63K0zvkXynC_cyiDMZyglw",
      "authorship_tag": "ABX9TyP9iKIglAmaaV5LKNR8ZZ4Z"
    },
    "gpuClass": "standard",
    "kernelspec": {
      "display_name": "Python 3",
      "name": "python3"
    },
    "language_info": {
      "name": "python"
    }
  },
  "nbformat": 4,
  "nbformat_minor": 0
}